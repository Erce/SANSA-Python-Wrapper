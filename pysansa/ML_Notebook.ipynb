{
 "cells": [
  {
   "cell_type": "code",
   "execution_count": 4,
   "metadata": {},
   "outputs": [],
   "source": [
    "import pysansa\n",
    "#help(pysansa)\n",
    "import pysansa.ml as ml\n",
    "\n",
    "#Make sure you supply correct jar and rdf.nt path"
   ]
  },
  {
   "cell_type": "code",
   "execution_count": 5,
   "metadata": {},
   "outputs": [
    {
     "name": "stdout",
     "output_type": "stream",
     "text": [
      "/home/alex/Downloads/pysansa/myjars/SANSA_all_dep_NO_spark.jar\n"
     ]
    }
   ],
   "source": [
    "#Spark Session in Python, needs correct jar location!\n",
    "#ml.create_spark_session(\"/home/alex/Desktop/SANSA4/SANSA-Stack/sansa-stack/sansa-stack-spark/target/SANSA_all_dep_NO_spark.jar\")\n",
    "sansa_jar = pysansa.ml.__file__[:-5] + \"myjars/SANSA_all_dep_NO_spark.jar\"\n",
    "ml.create_spark_session(sansa_jar)\n",
    "\n",
    "#Spark Session in Scala\n",
    "spark_session_scala = ml.sc._jvm.org.apache.spark.sql.SparkSession.builder().master(\"local\").config(\"spark.serializer\", \"org.apache.spark.serializer.KryoSerializer\").config(\"spark.sql.legacy.allowUntypedScalaUDF\", \"true\").appName(\"SansaSpark\").getOrCreate()\n"
   ]
  },
  {
   "cell_type": "code",
   "execution_count": 6,
   "metadata": {},
   "outputs": [
    {
     "name": "stdout",
     "output_type": "stream",
     "text": [
      "-----------Starting Similaritypipeline - MinHash Algorithm--------\n",
      "ERROR: Result_directory already exists: /home/alex/Desktop/SANSA4/SANSA-Stack/sansa-ml/sansa-ml-spark/src/main/resources/output_5\n"
     ]
    }
   ],
   "source": [
    "#3 Examples, local files and hdfs\n",
    "#INPUT\n",
    "nt_file1 = \"file:///home/alex/Desktop/SANSA4/SANSA-Stack/sansa-ml/sansa-ml-spark/src/main/resources/rdf.nt\" \n",
    "nt_file2 = \"/home/alex/Desktop/SANSA4/SANSA-Stack/sansa-ml/sansa-ml-spark/src/main/resources/rdf.nt\" \n",
    "nt_file3 = \"hdfs://localhost:54310/user/hduser/rdf.nt\"\n",
    "altern_nt_file = \"file:///home/alex/Desktop/SANSA4/SANSA-Stack/sansa-ml/sansa-ml-spark/src/main/resources/movie.nt\"\n",
    "bad_nt_file = \"file:///home/alex/Desktop/SANSA4/SANSA-Stack/sansa-ml/sansa-ml-spark/src/main/resources/movie_bad_data.nt\"\n",
    "#OUTPUTDIRECTORY\n",
    "result_folder1 = \"file:///home/alex/Desktop/SANSA4/SANSA-Stack/sansa-ml/sansa-ml-spark/src/main/resources\" \n",
    "result_folder2 = \"/home/alex/Desktop/SANSA4/SANSA-Stack/sansa-ml/sansa-ml-spark/src/main/resources\" \n",
    "result_folder3 = \"hdfs://localhost:54310/user/hduser\"\n",
    "\n",
    "#Possible modes: MinHash, Jaccard, Tversky, Dice, Ochiai, Simpson\n",
    "# Validation requires /usr/local/hadoop-2.8.3/bin/hdfs path, TODO just  hdfs call\n",
    "ml.ml_similarity_minhash(nt_file2, result_folder1 + \"/output_5\")"
   ]
  },
  {
   "cell_type": "code",
   "execution_count": null,
   "metadata": {},
   "outputs": [],
   "source": []
  }
 ],
 "metadata": {
  "kernelspec": {
   "display_name": "Python 3",
   "language": "python",
   "name": "python3"
  },
  "language_info": {
   "codemirror_mode": {
    "name": "ipython",
    "version": 3
   },
   "file_extension": ".py",
   "mimetype": "text/x-python",
   "name": "python",
   "nbconvert_exporter": "python",
   "pygments_lexer": "ipython3",
   "version": "3.8.5"
  }
 },
 "nbformat": 4,
 "nbformat_minor": 4
}
