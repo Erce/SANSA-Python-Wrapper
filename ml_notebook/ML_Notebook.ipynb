{
 "cells": [
  {
   "cell_type": "code",
   "execution_count": 3,
   "metadata": {},
   "outputs": [],
   "source": [
    "#!/usr/bin/env python3\n",
    "# -*- coding: utf-8 -*-\n",
    "\"\"\"\n",
    "Created on Fri Feb 26 2021\n",
    "\n",
    "ML-Demonstration\n",
    "\n",
    "@author: alex\n",
    "\"\"\"\n",
    "#Pyspark\n",
    "import findspark\n",
    "findspark.init()\n",
    "\n",
    "import pathlib\n",
    "# Get the current path\n",
    "currentPath = pathlib.Path().absolute()\n",
    "\n",
    "import sys\n",
    "sys.path.insert(0, str(currentPath) + '/..')\n",
    "\n",
    "from pysansa.ml import ml"
   ]
  },
  {
   "cell_type": "code",
   "execution_count": 4,
   "metadata": {},
   "outputs": [
    {
     "name": "stdout",
     "output_type": "stream",
     "text": [
      "/home/alex/Downloads/SANSA-Python-Wrapper-main/ml_notebook../../pysansa/myjars/SANSA_all_dep_NO_spark.jar loaded!\n"
     ]
    }
   ],
   "source": [
    "\"\"\"\n",
    "Initialisation\n",
    "Creating SparkConfig, SparkContext and SparkSession\n",
    "SparkContext uses our SANSA-Stack jar with dependencies included\n",
    "Should you want to reposition the jar, you can use:\n",
    "create_spark_session(\"jar_location\") \n",
    "\"\"\"\n",
    "ML = ml.ML()\n"
   ]
  },
  {
   "cell_type": "code",
   "execution_count": 9,
   "metadata": {},
   "outputs": [
    {
     "name": "stdout",
     "output_type": "stream",
     "text": [
      "-----------Starting Similaritypipeline - MinHash Algorithm--------\n",
      "SUCCESS! Resultfiles generated in: /home/alex/Downloads/SANSA-Python-Wrapper-main/ml_notebook/output_folder_1\n",
      "______________________________________________________\n"
     ]
    }
   ],
   "source": [
    "#MINHASH Alg\n",
    "#3 Examples, local files and hdfs supported\n",
    "#INPUT\n",
    "nt_file = str(currentPath) + \"/../data/rdf.nt\"\n",
    "\n",
    "#OUTPUTDIRECTORY\n",
    "result_folder = str(currentPath) + \"/output_folder_1\"\n",
    "#Make sure that the Output directory does not exist, or you will get an error\n",
    "\n",
    "\n",
    "#Possible modes: MinHash, Jaccard, Tversky, Dice, Ochiai, Simpson\n",
    "ML.ml_similarity_minhash(nt_file, result_folder)"
   ]
  },
  {
   "cell_type": "code",
   "execution_count": 10,
   "metadata": {},
   "outputs": [
    {
     "name": "stdout",
     "output_type": "stream",
     "text": [
      "-----------Starting Similaritypipeline - Jaccard Algorithm--------\n",
      "SUCCESS! Resultfiles generated in: /home/alex/Downloads/SANSA-Python-Wrapper-main/ml_notebook/output_folder_2\n",
      "______________________________________________________\n"
     ]
    }
   ],
   "source": [
    "#JACCARD Alg\n",
    "#Examples, local files and hdfs supported\n",
    "#INPUT\n",
    "nt_file = str(currentPath) + \"/../data/movie.nt\"\n",
    "\n",
    "#OUTPUTDIRECTORY\n",
    "result_folder = str(currentPath) + \"/output_folder_2\"\n",
    "#Make sure that the Output directory does not exist, or you will get an error\n",
    "\n",
    "\n",
    "#Possible modes: minhash, jaccard, tversky, dice, ochiai, simpson\n",
    "ML.ml_similarity_jaccard(nt_file, result_folder)"
   ]
  },
  {
   "cell_type": "code",
   "execution_count": null,
   "metadata": {},
   "outputs": [],
   "source": []
  }
 ],
 "metadata": {
  "kernelspec": {
   "display_name": "Python 3",
   "language": "python",
   "name": "python3"
  },
  "language_info": {
   "codemirror_mode": {
    "name": "ipython",
    "version": 3
   },
   "file_extension": ".py",
   "mimetype": "text/x-python",
   "name": "python",
   "nbconvert_exporter": "python",
   "pygments_lexer": "ipython3",
   "version": "3.8.5"
  }
 },
 "nbformat": 4,
 "nbformat_minor": 4
}
