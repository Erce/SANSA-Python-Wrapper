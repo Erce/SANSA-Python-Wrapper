{
 "cells": [
  {
   "cell_type": "code",
   "execution_count": 1,
   "metadata": {},
   "outputs": [],
   "source": [
    "#!/usr/bin/env python3\n",
    "# -*- coding: utf-8 -*-\n",
    "\"\"\"\n",
    "Created on Fri Feb 12 14:20:27 2021\n",
    "\n",
    "@author: erce\n",
    "\"\"\"\n",
    "from pyspark import SparkContext, SparkConf\n",
    "from rdf import Rdf\n",
    "import pathlib\n",
    "# Get the current path\n",
    "currentPath = pathlib.Path().absolute()"
   ]
  },
  {
   "cell_type": "code",
   "execution_count": 2,
   "metadata": {},
   "outputs": [],
   "source": [
    "\"\"\"\n",
    "Creating SparkConfig, SparkContext and SparkSession\n",
    "SparkContext uses our SANSA-Stack jar with dependencies included\n",
    "\"\"\"\n",
    "# Get the current path\n",
    "currentPath = pathlib.Path().absolute()\n",
    "# Spark Session and Config\n",
    "conf = SparkConf().set(\"spark.jars\", str(currentPath) + \"../../pysansa/myjars/SANSA_all_dep_NO_spark.jar\")\n",
    "sc = SparkContext(conf=conf)\n",
    "# Spark object\n",
    "spark = sc._jvm.org.apache.spark.sql.SparkSession.builder().master(\"local\") \\\n",
    "                        .config(\"spark.serializer\", \"org.apache.spark.serializer.KryoSerializer\") \\\n",
    "                        .config(\"spark.sql.legacy.allowUntypedScalaUDF\", \"true\").appName(\"SansaRDF\").getOrCreate()\n"
   ]
  },
  {
   "cell_type": "code",
   "execution_count": null,
   "metadata": {},
   "outputs": [],
   "source": [
    "\"\"\"\n",
    "Creating Rdf Object from SANSA-Stack RDF Python Wrapper\n",
    "\"\"\"\n",
    "# Rdf object\n",
    "rdf = Rdf(sc)\n",
    "# Initialize Rdf Reader\n",
    "rdfReader = rdf.initializeRdfReader(spark)\n",
    "# Read triples from the given path\n",
    "triples = rdf.readTriples(rdfReader, path = 'file:///' + str(currentPath) + '../../data/rdf.nt')"
   ]
  },
  {
   "cell_type": "code",
   "execution_count": null,
   "metadata": {},
   "outputs": [],
   "source": [
    "\"\"\"\n",
    "Running some examples with RDF Python Wrapper\n",
    "\"\"\"\n",
    "# Count triples from the object\n",
    "size = rdf.count()\n",
    "# Print size of triples\n",
    "print(\"Size of triples: \" + str(size))\n",
    "# Get triples as array\n",
    "triples = rdf.getTriplesAsArray(30)\n",
    "# Print triples\n",
    "rdf.printTriples(triples)\n",
    "# Print attributes of RDF/IO\n",
    "rdf.printRdfIOAttributes()\n",
    "# Print triple object attribute\n",
    "rdf.printTripleObjectAttributes()\n",
    "# Print Rdf class packages\n",
    "rdf.printRdfClassPackageList()"
   ]
  },
  {
   "cell_type": "code",
   "execution_count": null,
   "metadata": {},
   "outputs": [],
   "source": [
    "\"\"\"\n",
    "Example usage of different packages from Rdf class\n",
    "io package RDFReader\n",
    "\"\"\"\n",
    "reader = rdf.packagesDict[\"io\"].RDFReader(spark)\n",
    "print(\"RDFReader class methods: \")\n",
    "print(dir(reader))"
   ]
  },
  {
   "cell_type": "code",
   "execution_count": null,
   "metadata": {},
   "outputs": [],
   "source": [
    "\"\"\"\n",
    "Example usage of different packages from Rdf class\n",
    "io package RDFWriter\n",
    "\"\"\"\n",
    "writer = rdf.packagesDict[\"io\"].RDFWriter(rdf.triples)\n",
    "print(\"RDFWriter class methods: \")\n",
    "print(dir(writer))"
   ]
  },
  {
   "cell_type": "code",
   "execution_count": null,
   "metadata": {},
   "outputs": [],
   "source": [
    "\"\"\"\n",
    "Example usage of different packages from Rdf class\n",
    "io package RDFWriter\n",
    "\"\"\"\n",
    "qualityassesment = rdf.packagesDict[\"qualityassesment\"].QualityAssessmentOperations(rdf.triples)\n",
    "print(\"QualityAssessmentOperations class methods: \")\n",
    "print(dir(qualityassesment))\n",
    "assesmentTriples = qualityassesment.assessAmountOfTriples()\n",
    "print(\"Triples assesment: \", assesmentTriples)\n",
    "assesmentCoverage = qualityassesment.assessCoverageDetail()\n",
    "print(\"Coverage scope assesment: \", assesmentCoverage)\n",
    "# Stop SparkContext to prevent overloading\n",
    "sc.stop()"
   ]
  }
 ],
 "metadata": {
  "kernelspec": {
   "display_name": "Python 3",
   "language": "python",
   "name": "python3"
  },
  "language_info": {
   "codemirror_mode": {
    "name": "ipython",
    "version": 3
   },
   "file_extension": ".py",
   "mimetype": "text/x-python",
   "name": "python",
   "nbconvert_exporter": "python",
   "pygments_lexer": "ipython3",
   "version": "3.8.5"
  }
 },
 "nbformat": 4,
 "nbformat_minor": 4
}
